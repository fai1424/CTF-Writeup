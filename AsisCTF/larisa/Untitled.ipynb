{
 "cells": [
  {
   "cell_type": "code",
   "execution_count": null,
   "id": "db931880-3a03-4742-b985-9a526b482925",
   "metadata": {},
   "outputs": [],
   "source": [
    "flag = b'firebird{}'\n",
    "a = 178530005809633815335340920735833979304437328498631726345572438966270331731818944825382738564367239684217828941773141118584036439425800490094373747886611446587901629729780717925712826000284139417179630035002238162818888668650375333623514483277258146577697825508700120162304266549241514682412793622529350725498959594211673155286329595682294673081401434833795257500150683360538547838557600938871355007233882102407838738850631333489013056696091455659146250403418618414259950067878460635701108133351281573202458046966656128997570884054317\n",
    "\n",
    "\n",
    "def f(n):\n",
    "    return 1 + sum(floor(QQ((n, sum(floor(cos(QQ((factorial(j - 1) + 1, j)) * pi)**2) * (((-1)**(ceil(QQ(((j - 1), 2)))) + 1) // 2) for j in range(1, i + 1))))**QQ((1, n))) for i in range(1, 2**(n+2) + 1))\n",
    "output = 1\n",
    "for i in range(len(flag) - 3):\n",
    "    output *= f(flag[i] * flag[i+1] * flag[i+2])\n",
    "    \n",
    "\n",
    "print(output)"
   ]
  },
  {
   "cell_type": "code",
   "execution_count": null,
   "id": "94a364d4-3e64-4ede-89cd-547cdf9f4e3e",
   "metadata": {},
   "outputs": [],
   "source": []
  },
  {
   "cell_type": "code",
   "execution_count": null,
   "id": "cef802af-d2ce-4d6a-a793-84cec2fae2b1",
   "metadata": {},
   "outputs": [],
   "source": []
  },
  {
   "cell_type": "code",
   "execution_count": null,
   "id": "936c85f4-e167-45a5-9498-4880eafe7f31",
   "metadata": {},
   "outputs": [],
   "source": []
  },
  {
   "cell_type": "code",
   "execution_count": null,
   "id": "604a6f5f-e634-4f46-8a24-47477fe76de8",
   "metadata": {},
   "outputs": [],
   "source": []
  },
  {
   "cell_type": "code",
   "execution_count": null,
   "id": "8f072061-461a-49e4-80c3-d374f1fc7ea6",
   "metadata": {},
   "outputs": [],
   "source": []
  }
 ],
 "metadata": {
  "kernelspec": {
   "display_name": "SageMath 10.1",
   "language": "sage",
   "name": "sagemath-10.1"
  },
  "language_info": {
   "codemirror_mode": {
    "name": "ipython",
    "version": 3
   },
   "file_extension": ".py",
   "mimetype": "text/x-python",
   "name": "python",
   "nbconvert_exporter": "python",
   "pygments_lexer": "ipython3",
   "version": "3.11.1"
  }
 },
 "nbformat": 4,
 "nbformat_minor": 5
}
