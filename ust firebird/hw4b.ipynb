{
 "cells": [
  {
   "cell_type": "code",
   "execution_count": 198,
   "metadata": {},
   "outputs": [
    {
     "data": {
      "text/plain": [
       "'HW 4-B Simple Encryption \\nI solve it with mainly 通靈 and brute force. So you guys can just treat this write up as a funny story haha.\\nSo let me show you my journey on this asm.\\nBy simple observation then we know that c1 is the cipher from k * m % n and c2 is the cipher from k xor m.\\nI did some googling and I cant find anything about how they are related ( ok me suck at googling :/ )\\nso lets just decode it from base64 first'"
      ]
     },
     "execution_count": 198,
     "metadata": {},
     "output_type": "execute_result"
    }
   ],
   "source": [
    "'''HW 4-B Simple Encryption by Lam Hung Fai, fai1424\n",
    "I solve it with mainly 通靈 and brute force. So you guys can just treat this write up as a funny story haha.\n",
    "let me show you my journey on this asm.\n",
    "By simple observation then we know that c1 is the cipher from k * m % n and c2 is the cipher from k xor m.\n",
    "I did some googling and I cant find anything about how they are related ( ok me suck at googling :< )\n",
    "so lets just decode it from base64 first'''"
   ]
  },
  {
   "cell_type": "code",
   "execution_count": 199,
   "metadata": {},
   "outputs": [
    {
     "name": "stdout",
     "output_type": "stream",
     "text": [
      "b'\\xff\\xff\\xff\\xff\\xff\\xff\\xfb\\xfd\\xf7\\xff\\xff\\xff\\xff\\xff\\xff\\xff\\xff\\xff\\xff\\xff\\xff\\xfe\\xff\\xff\\xff\\xff\\xff\\xff\\xff\\xff\\xff\\xff\\xff\\xff\\xff\\x7f\\xff\\xff\\xff\\xff\\xf7\\xff\\xff\\xff\\xff\\xff\\xff\\xff\\xff\\xff\\xff\\xdf\\xff\\xdf\\xff\\xff\\xff\\xff\\xff\\xff\\xff\\xff\\xff\\xff\\xff\\xff'\n",
      "len of c2:  66\n",
      "32808383449696873297054615854612678559319477276088369094928232091672220327817092857809065026163026800637884243362924673350327649369751157003954257535981146418375183942097725197374095908236805454673674530351828753325299144683220519576972469612945759576717996906877604971825900088519200877105915940143274478302\n",
      "878694100496717994643605432616808527203105017594068392293494141740593468672616924001753593301621234381313003717658639155592781637684188060844429388095260983295\n"
     ]
    }
   ],
   "source": [
    "import base64\n",
    "from Cryptodome.Util.number import bytes_to_long, long_to_bytes\n",
    "def xor(k, m):\n",
    "    return bytes(a ^ b for a, b in zip(m, k))\n",
    "\n",
    "c1 = 'Lrh/EMfrRXqShQQqw+Zd/w6Nn2MwaWT5s0Xvb6AAq+NE4FxIvvPSuzLJbv9VwcJv0F1LlOfnfvc3j/eFM5BWpTujw6dQ8ZtjV6dOqqnLPC1lKdDZEmt5XaINbKe4CIIT37V1qtR2jqy7K1xjCUJJyGkrgFI9vXWyfrQAHo2JSt4='\n",
    "c2 = '////////+/33/////////////////v////////////////9///////f/////////////3//f////////////////'\n",
    "n = 150095186069281777851468726257751810997446691788728681013850021750670480757667073571298768531705071802820728411143863036993470518226749117889851508979626068982736226357060650073869307154521010066655609905126167748092779979732912821644834005606143609309269768565568485061354218686729973438920060109916387047693\n",
    "\n",
    "c1 = base64.b64decode(c1)\n",
    "c1 = bytes_to_long(c1)\n",
    "\n",
    "c2 = base64.b64decode(c2)\n",
    "print(c2)\n",
    "print('len of c2: ', int(len(str(c2)[2:-1])/4))\n",
    "c2 = bytes_to_long(c2)\n",
    "print(c1)\n",
    "print(c2)"
   ]
  },
  {
   "cell_type": "code",
   "execution_count": 200,
   "metadata": {},
   "outputs": [
    {
     "data": {
      "text/plain": [
       "\"\\nhmmmmmm don't know what I am doing so let just turn it to binary for further analysis\\n\""
      ]
     },
     "execution_count": 200,
     "metadata": {},
     "output_type": "execute_result"
    }
   ],
   "source": [
    "'''\n",
    "hmmmmmm don't know what I am doing so let just turn it to binary for further analysis\n",
    "'''"
   ]
  },
  {
   "cell_type": "code",
   "execution_count": 201,
   "metadata": {},
   "outputs": [
    {
     "name": "stdout",
     "output_type": "stream",
     "text": [
      "10111010111000011111110001000011000111111010110100010101111010100100101000010100000100001010101100001111100110010111011111111100001110100011011001111101100011001100000110100101100100111110011011001101000101111011110110111110100000000000001010101111100011010001001110000001011100010010001011111011110011110100101011101100110010110010010110111011111111010101011100000111000010011011111101000001011101010010111001010011100111111001110111111011110111001101111000111111110111100001010011001110010000010101101010010100111011101000111100001110100111010100001111000110011011011000110101011110100111010011101010101010101001110010110011110000101101011001010010100111010000110110010001001001101011011110010101110110100010000011010110110010100111101110000000100010000010000100111101111110110101011101011010101011010100011101101000111010101100101110110010101101011100011000110000100101000010010010011100100001101001001010111000000001010010001111011011110101110101101100100111111010110100000000000001111010001101100010010100101011011110\n",
      "111111111111111111111111111111111111111111111111111110111111110111110111111111111111111111111111111111111111111111111111111111111111111111111111111111111111111111111111111111101111111111111111111111111111111111111111111111111111111111111111111111111111111111111111111111111111111101111111111111111111111111111111111111111111011111111111111111111111111111111111111111111111111111111111111111111111111111111111110111111111111111011111111111111111111111111111111111111111111111111111111111111111111111111111111111111111111111111111\n"
     ]
    }
   ],
   "source": [
    "bin_c1 = bin(c1)[2:]\n",
    "bin_c2 = bin(c2)[2:]\n",
    "print(bin_c1)\n",
    "print(bin_c2)\n"
   ]
  },
  {
   "cell_type": "code",
   "execution_count": 202,
   "metadata": {},
   "outputs": [
    {
     "data": {
      "text/plain": [
       "\"\\nbruh where am I, what am I doing here\\nhmmmmm i guess the first five letters of m must be 'flag{', lets try to xor this with first five letters of c2\\nb'ÿÿÿÿÿ'\\n\""
      ]
     },
     "execution_count": 202,
     "metadata": {},
     "output_type": "execute_result"
    }
   ],
   "source": [
    "\"\"\"\n",
    "bruh where am I, what am I doing here\n",
    "hmmmmm i guess the first five letters of m must be 'flag{', lets try to xor this with first five letters of c2\n",
    "b'\\xff\\xff\\xff\\xff\\xff'\n",
    "\"\"\"\n"
   ]
  },
  {
   "cell_type": "code",
   "execution_count": 203,
   "metadata": {},
   "outputs": [
    {
     "name": "stdout",
     "output_type": "stream",
     "text": [
      "b'\\x99\\x93\\x9e\\x98\\x84'\n"
     ]
    }
   ],
   "source": [
    "print(xor(b'flag{',b'\\xff\\xff\\xff\\xff\\xff'))"
   ]
  },
  {
   "cell_type": "code",
   "execution_count": 204,
   "metadata": {},
   "outputs": [
    {
     "data": {
      "text/plain": [
       "\"\\newwwww what is this, I wanna give up alr\\nlet's try what will happen when I do 'flag{' * 'ÿÿÿÿÿ'\\n\""
      ]
     },
     "execution_count": 204,
     "metadata": {},
     "output_type": "execute_result"
    }
   ],
   "source": [
    "'''\n",
    "ewwwww what is this, I wanna give up alr\n",
    "let's try what will happen when I do 'flag{' * '\\xff\\xff\\xff\\xff\\xff'\n",
    "'''"
   ]
  },
  {
   "cell_type": "code",
   "execution_count": 205,
   "metadata": {},
   "outputs": [
    {
     "name": "stdout",
     "output_type": "stream",
     "text": [
      "1100110011011000110000101100111011110101001100110010011100111101001100010000101\n"
     ]
    }
   ],
   "source": [
    "print(bin(bytes_to_long(b'flag{')*bytes_to_long(b'\\xff\\xff\\xff\\xff\\xff'))[2:])"
   ]
  },
  {
   "cell_type": "code",
   "execution_count": 206,
   "metadata": {},
   "outputs": [
    {
     "data": {
      "text/plain": [
       "'\\nby above code we know length of c2 is 66 (letters), so k and m are also 66 letters also.\\nwhat if we try to assign a random value inside flag{} to see the result after it multipy with the corresponding key?\\n'"
      ]
     },
     "execution_count": 206,
     "metadata": {},
     "output_type": "execute_result"
    }
   ],
   "source": [
    "'''\n",
    "by above code we know length of c2 is 66 (letters), so k and m are also 66 letters also.\n",
    "what if we try to assign a random value inside flag{} to see the result after it multipy with the corresponding key?\n",
    "'''"
   ]
  },
  {
   "cell_type": "code",
   "execution_count": 207,
   "metadata": {},
   "outputs": [
    {
     "name": "stdout",
     "output_type": "stream",
     "text": [
      "1111010111000111010101111001101011000010110100010011101110011111111010110111010110100011001111100000100010010001110000010101100011111100101111101100111100111111110111111101110001001100000111011000000010010101101000000010100101100110011110101101111101111110100001001001100000000100000100000111011010101010001111101010111111000111100111011001000000110001100000011000100010100011100001010001011010111111100100000111011010110001111001011100001000000110100101111110011101111010100101010001110111100111100101101010011000101110010011001011011001100000000111111110101011111101001010101100000110111010110010001100001011111010011101101101011110011111001110001000100011100101000001110001110010110110101010101110111101111101000011101111001100101110011010100000110110110101000001100111010001001010010111110100011001100101100010101100000110011100000101000010001100111011101100111011111011100010011111101010110001001010111111000110100011110000111001100010101101100100001110100010011100011001110111101010001111100001110000001000111110001110011100011001110000101101111010\n",
      "1054\n",
      "1111010111000111010101111001101011000010110101000011011000000101101100000001011010010100101101100100000110000101100011111101000101001100111110011110101010000010001001110000000011000001011001110011111110011000001101110011010001000101001000000001010101001001111110110010000011011001100111001001000011111010001011000100101001111000111001001000111110100010111011010111001010010111001101111011000101010110011001110101101011111011011000011100000101111011000110111111001011111111101111110001001110001010101110001101110001111110101011010000101001100000000011111100101110101001011000001100001111011011100111010110001001110011111001110110010101110011011101101010101111001001011000001101000101000001000101011011000110110000011101010011100111000101010010100111000000111110010001010000001101110110100011110110011111101100100010000011001011011011001010110100001100110001001000010001110100010010001011101001100101011000100101110001101010101011111101110011011110010101000011111100100100011101100111100010110110110001110000110100011101100001011101110000001101010001111010\n",
      "1054\n",
      "1111010111000111010101111001101011000010101001101011101111011100101111000110010111110010001100011110110001101000101000001001010110000001100001011011101010001001000011011000111010101000010100011111101011110101111010011100010100111000011000001111011100100010101110000000000001000000110011000011011001011011100000110010011000010010011110100100111110100101000001100011101010011110101010011001110011100000111001111111000111110001111011111101000001001110000111000010100010101001110010001010001110011011111111001001100000101000111000110010110110110000100010000111110001001100110101111001110010110000000000011011000111001011000110011111101110001101111100000000011110100110001001011101001101011001000010101011010100110101110100011100011110111101011101111101111101001010010110010111100011101001010001111101010101100111010000111110010110110000000111111001110111000010100000011000001000010100001000110110000110101111100100011011001101111001110000011101001001110010111001110101011111101010001100010110010100111101001010111100101100101111101000001101101100000001111010\n",
      "1054\n"
     ]
    }
   ],
   "source": [
    "def multipy_of_flag_key(test_flag,real_ans):\n",
    "    #test_flag is the random flag, real_ans is int c2\n",
    "    test_key = bytes_to_long(xor(test_flag,real_ans))\n",
    "    test_flag = bytes_to_long(test_flag)\n",
    "    print(bin(test_key*test_flag)[2:])\n",
    "    print(len(bin(test_key*test_flag)[2:]))\n",
    "\n",
    "#lets test\n",
    "multipy_of_flag_key(b'flag{voihaoihbuhaybcsadisachjixanviayvguawhianwccsjacaicuvbiagiwu}',long_to_bytes(c2))\n",
    "multipy_of_flag_key(b'flag{z9LAJ0Jijaiifjsaiofjsuhuihaiwodjaiwojdioawjdiojaiojdiwijdaij}',long_to_bytes(c2))\n",
    "multipy_of_flag_key(b'flag{ASFASaowwajaoikvopasjifnisbavauisoijdskncbadviuiribsuhjfansf}',long_to_bytes(c2))\n",
    "\n",
    "\n",
    "\n",
    "\n"
   ]
  },
  {
   "cell_type": "code",
   "execution_count": 208,
   "metadata": {},
   "outputs": [
    {
     "data": {
      "text/plain": [
       "'\\ninteresting! Now we can see that the first 41 bits are the same no matter what the content of flag is!\\ndoes that mean we could also use that to find k*m%n????\\nnote that the number of bit of k*m is 1054bits\\nby trial and error we start from i = 1230000000 then we can get close to the real value quickly\\n'"
      ]
     },
     "execution_count": 208,
     "metadata": {},
     "output_type": "execute_result"
    }
   ],
   "source": [
    "\"\"\"\n",
    "interesting! Now we can see that the first 41 bits are the same no matter what the content of flag is!\n",
    "does that mean we could also use that to find k*m%n????\n",
    "since k*m = c1 % n, k*m = c1 + i * n\n",
    "note that the number of bit of k*m is 1054bits\n",
    "so we can have some trial run until i is large enough that making c1 + i * n is 1054 bits\n",
    "by trial and error we start from i = 1230000000 then we can get close to the real value quickly\n",
    "\"\"\""
   ]
  },
  {
   "cell_type": "code",
   "execution_count": 209,
   "metadata": {},
   "outputs": [
    {
     "name": "stdout",
     "output_type": "stream",
     "text": [
      "p 11110100110110010001000011111000111001100\n",
      "p 11110101000011000000011011001001101001011\n",
      "p 11110101001111101111110010011010011001010\n",
      "p 11110101011100011111001001101011001001001\n",
      "p 11110101101001001110100000111011111001000\n",
      "founded!!!\n",
      "i:  1234675724\n",
      "11110101110001110101011110011010110000101\n",
      "real_ans:  [185318882561813576678466187352702143710196334894972916546428698727353055406572882940421665515000441508782694893874303006719676668714594312666764921105866575506514940196806924583962965489760703885496108872946897006073731493974738609376438816308557889284841550991723707671588309349318559236718595871440450697717851783034]\n"
     ]
    }
   ],
   "source": [
    "i = 1230000000\n",
    "real_i = [] #in case there are multiple possibility\n",
    "while True:\n",
    "    number = c1 + i*n\n",
    "    number_len = len(bin(number)[2:])\n",
    "    # print(number_len)\n",
    "    if number_len == 1054:\n",
    "        if(i%1000000 == 0):\n",
    "            print('p', bin(number)[2:][:41])\n",
    "        if bin(number)[2:][:41] == \"11110101110001110101011110011010110000101\":\n",
    "\n",
    "            print('founded!!!')\n",
    "            print(\"i: \", i)                      \n",
    "            real_i.append(i)\n",
    "\n",
    " \n",
    "            print(bin(number)[2:][:41])\n",
    "\n",
    "            # break\n",
    "        if bin(number)[2:][:12] == \"111101011101\": break\n",
    "    # else:break\n",
    "\n",
    "    i += 1\n",
    "\n",
    "real_ans = [c1+a*n for a in real_i]\n",
    "print(\"real_ans: \",real_ans)"
   ]
  },
  {
   "cell_type": "code",
   "execution_count": 210,
   "metadata": {},
   "outputs": [
    {
     "data": {
      "text/plain": [
       "' \\nyayyyyyyyyyyyyyyy omg i find the real value of k*m, what should I do next???\\noh wait what should i do next...... i still cant find their relation\\nshould I try to brute force it now? \\nif I randomly guess a flag, and then find correspoding key, multiply them together, if it is equals to real_ans, then it is the real flag!\\nsince when two numbers are large enough, the changes in the right most digits does almost 0 effect on the left most digits,\\nwe can make use of it to start brute force it.\\nwith the below code it should be enough for us to brute force the flag with our brains and eyes\\naltho painful, I skipped my 3711 lecture because of this\\nsince we know the real_i only consist of 1 element, then i just use real_ans[0]\\n'"
      ]
     },
     "execution_count": 210,
     "metadata": {},
     "output_type": "execute_result"
    }
   ],
   "source": [
    "\"\"\" \n",
    "yayyyyyyyyyyyyyyy omg i find the real value of k*m, what should I do next???\n",
    "oh wait what should i do next...... i still cant find their relation\n",
    "should I try to brute force it now? \n",
    "if I randomly guess a flag, and then find correspoding key, multiply them together, if it is equals to real_ans, then it is the real flag!\n",
    "since when two numbers are large enough, the changes in the right most digits does almost 0 effect on the left most digits,\n",
    "we can make use of it to start brute force it.\n",
    "with the below code it should be enough for us to brute force the flag with our brains and eyes\n",
    "altho painful, I skipped my 3711 lecture because of this\n",
    "since we know the real_i only consist of 1 element, then i just use real_ans[0]\n",
    "\"\"\""
   ]
  },
  {
   "cell_type": "code",
   "execution_count": 211,
   "metadata": {},
   "outputs": [
    {
     "name": "stdout",
     "output_type": "stream",
     "text": [
      "test_ans:  18531888256183292974\n",
      "real_ans:  18531888256181357667\n",
      "test_ans:  18531888256182141939\n",
      "real_ans:  18531888256181357667\n"
     ]
    }
   ],
   "source": [
    "def matching(test_flag,c2,real_ans):\n",
    "\n",
    "    test_key = xor(test_flag,c2)\n",
    "    num_testflag = bytes_to_long(test_flag)\n",
    "    num_testkey = bytes_to_long(test_key)\n",
    "    test_ans = num_testflag * num_testkey\n",
    "    if(test_ans == real_ans):\n",
    "        print('we found the flag yayyyyyyyyyyyyyyyyyyyyyyyyyyyyy')\n",
    "    else:\n",
    "\n",
    "        print(\"test_ans: \",str(test_ans)[0:20])\n",
    "        print(\"real_ans: \", str(real_ans)[0:20]) #dont try 0:165 first, your eyes will dry, after most of the bytes correct that we slowly increase the range\n",
    "\n",
    "test_flag1 =   b'flag{voihaoihbuhaybcsadisachjixanviayvguawhianwccsjacaicuvbiagiwu}'\n",
    "test_flag2 =   b'flag{aoihaoihbuhaybcsadisachjixanviayvguawhianwccsjacaicuvbiagiwu}'\n",
    "\n",
    "matching(test_flag1,long_to_bytes(c2),real_ans[0])\n",
    "matching(test_flag2,long_to_bytes(c2),real_ans[0])\n"
   ]
  },
  {
   "cell_type": "code",
   "execution_count": 212,
   "metadata": {},
   "outputs": [
    {
     "data": {
      "text/plain": [
       "' \\nwe can see that I only change the value of test_flag[5], and the result changed from 14th digits, then we try until the 14 and 15th digits matched with real_ans\\n'"
      ]
     },
     "execution_count": 212,
     "metadata": {},
     "output_type": "execute_result"
    }
   ],
   "source": [
    "\"\"\" \n",
    "we can see that I only change the value of test_flag[5], and the result changed at 14th digits, then we try random letter on test_flag[5] until the 14 and 15th digits matched with real_ans\n",
    "\"\"\""
   ]
  },
  {
   "cell_type": "code",
   "execution_count": 213,
   "metadata": {},
   "outputs": [
    {
     "name": "stdout",
     "output_type": "stream",
     "text": [
      "test_ans:  18531888256181374583\n",
      "real_ans:  18531888256181357667\n"
     ]
    }
   ],
   "source": [
    "test_flag3 =   b'flag{Soihaoihbuhaybcsadisachjixanviayvguawhianwccsjacaicuvbiagiwu}'\n",
    "\n",
    "matching(test_flag3,long_to_bytes(c2),real_ans[0])"
   ]
  },
  {
   "cell_type": "code",
   "execution_count": 214,
   "metadata": {},
   "outputs": [
    {
     "name": "stdout",
     "output_type": "stream",
     "text": [
      "we found the flag yayyyyyyyyyyyyyyyyyyyyyyyyyyyyy\n"
     ]
    }
   ],
   "source": [
    "\"\"\" \n",
    "great! it is matched! Then it mean the first letter is S! then we just iterate it for 66 letters\n",
    "by exhausting my eyes and brain, the final key is : flag{S0m3t1m3s_y0u_n33d_m0r3_m4th5_t0_g3t_7hings_d0n3_IluRBvnYMoY}\n",
    "\"\"\"\n",
    "\n",
    "real_flag = b'flag{S0m3t1m3s_y0u_n33d_m0r3_m4th5_t0_g3t_7hings_d0n3_IluRBvnYMoY}'\n",
    "matching(real_flag,long_to_bytes(c2),real_ans[0])\n",
    "\n",
    "\n"
   ]
  },
  {
   "cell_type": "code",
   "execution_count": null,
   "metadata": {},
   "outputs": [],
   "source": [
    "\"\"\" \n",
    "Thanks for watchingggg, altho I dont think someone would reach to the bottom\n",
    "I know this method actually is so stupid and I am so impressed by the solutions from other ctf members\n",
    "u guys are all dailoooooooo\n",
    "orz\n",
    "\n",
    "\"\"\""
   ]
  }
 ],
 "metadata": {
  "kernelspec": {
   "display_name": "Python 3",
   "language": "python",
   "name": "python3"
  },
  "language_info": {
   "codemirror_mode": {
    "name": "ipython",
    "version": 3
   },
   "file_extension": ".py",
   "mimetype": "text/x-python",
   "name": "python",
   "nbconvert_exporter": "python",
   "pygments_lexer": "ipython3",
   "version": "3.10.11"
  },
  "orig_nbformat": 4
 },
 "nbformat": 4,
 "nbformat_minor": 2
}
